{
 "cells": [
  {
   "cell_type": "code",
   "execution_count": 1,
   "metadata": {},
   "outputs": [],
   "source": [
    "#Importing all the required libraries.\n",
    "\n",
    "import numpy as np\n",
    "import pandas as pd\n",
    "import matplotlib.pyplot as plt\n",
    "%matplotlib inline\n",
    "import requests\n",
    "import folium \n",
    "import seaborn as sns\n",
    "import matplotlib.cm as cm\n",
    "import matplotlib.colors as colors\n",
    "from sklearn.cluster import KMeans"
   ]
  },
  {
   "cell_type": "code",
   "execution_count": 2,
   "metadata": {},
   "outputs": [],
   "source": [
    "df = pd.read_csv('yangon.csv')"
   ]
  },
  {
   "cell_type": "code",
   "execution_count": 3,
   "metadata": {},
   "outputs": [
    {
     "data": {
      "text/html": [
       "<div>\n",
       "<style scoped>\n",
       "    .dataframe tbody tr th:only-of-type {\n",
       "        vertical-align: middle;\n",
       "    }\n",
       "\n",
       "    .dataframe tbody tr th {\n",
       "        vertical-align: top;\n",
       "    }\n",
       "\n",
       "    .dataframe thead th {\n",
       "        text-align: right;\n",
       "    }\n",
       "</style>\n",
       "<table border=\"1\" class=\"dataframe\">\n",
       "  <thead>\n",
       "    <tr style=\"text-align: right;\">\n",
       "      <th></th>\n",
       "      <th>Unnamed: 0</th>\n",
       "      <th>Borough</th>\n",
       "      <th>Neighborhoods</th>\n",
       "      <th>Population</th>\n",
       "      <th>Longitude</th>\n",
       "      <th>Latitude</th>\n",
       "    </tr>\n",
       "  </thead>\n",
       "  <tbody>\n",
       "    <tr>\n",
       "      <th>0</th>\n",
       "      <td>0</td>\n",
       "      <td>Western District (Downtown)</td>\n",
       "      <td>Ahlon</td>\n",
       "      <td>41200</td>\n",
       "      <td>96.127778</td>\n",
       "      <td>16.783056</td>\n",
       "    </tr>\n",
       "    <tr>\n",
       "      <th>1</th>\n",
       "      <td>1</td>\n",
       "      <td>Western District (Downtown)</td>\n",
       "      <td>Bahan</td>\n",
       "      <td>81000</td>\n",
       "      <td>96.152222</td>\n",
       "      <td>16.808056</td>\n",
       "    </tr>\n",
       "    <tr>\n",
       "      <th>2</th>\n",
       "      <td>2</td>\n",
       "      <td>Western District (Downtown)</td>\n",
       "      <td>Dagon</td>\n",
       "      <td>25082</td>\n",
       "      <td>96.149722</td>\n",
       "      <td>16.780833</td>\n",
       "    </tr>\n",
       "    <tr>\n",
       "      <th>3</th>\n",
       "      <td>3</td>\n",
       "      <td>Western District (Downtown)</td>\n",
       "      <td>Kyauktada</td>\n",
       "      <td>37000</td>\n",
       "      <td>96.158756</td>\n",
       "      <td>16.774422</td>\n",
       "    </tr>\n",
       "    <tr>\n",
       "      <th>4</th>\n",
       "      <td>4</td>\n",
       "      <td>Western District (Downtown)</td>\n",
       "      <td>Kyimyindaing</td>\n",
       "      <td>73200</td>\n",
       "      <td>96.124167</td>\n",
       "      <td>16.803056</td>\n",
       "    </tr>\n",
       "    <tr>\n",
       "      <th>5</th>\n",
       "      <td>5</td>\n",
       "      <td>Western District (Downtown)</td>\n",
       "      <td>Lanmadaw</td>\n",
       "      <td>47160</td>\n",
       "      <td>96.149722</td>\n",
       "      <td>16.780833</td>\n",
       "    </tr>\n",
       "    <tr>\n",
       "      <th>6</th>\n",
       "      <td>6</td>\n",
       "      <td>Western District (Downtown)</td>\n",
       "      <td>Seikkan</td>\n",
       "      <td>1250</td>\n",
       "      <td>96.150000</td>\n",
       "      <td>16.766667</td>\n",
       "    </tr>\n",
       "    <tr>\n",
       "      <th>7</th>\n",
       "      <td>7</td>\n",
       "      <td>Western District (Downtown)</td>\n",
       "      <td>Latha</td>\n",
       "      <td>27500</td>\n",
       "      <td>96.149722</td>\n",
       "      <td>16.780833</td>\n",
       "    </tr>\n",
       "    <tr>\n",
       "      <th>8</th>\n",
       "      <td>8</td>\n",
       "      <td>Western District (Downtown)</td>\n",
       "      <td>Pabedan</td>\n",
       "      <td>40000</td>\n",
       "      <td>96.155556</td>\n",
       "      <td>16.780278</td>\n",
       "    </tr>\n",
       "    <tr>\n",
       "      <th>9</th>\n",
       "      <td>9</td>\n",
       "      <td>Western District (Downtown)</td>\n",
       "      <td>Sanchaung</td>\n",
       "      <td>65300</td>\n",
       "      <td>96.135000</td>\n",
       "      <td>16.806389</td>\n",
       "    </tr>\n",
       "  </tbody>\n",
       "</table>\n",
       "</div>"
      ],
      "text/plain": [
       "   Unnamed: 0                      Borough Neighborhoods  Population  \\\n",
       "0           0  Western District (Downtown)         Ahlon       41200   \n",
       "1           1  Western District (Downtown)         Bahan       81000   \n",
       "2           2  Western District (Downtown)         Dagon       25082   \n",
       "3           3  Western District (Downtown)     Kyauktada       37000   \n",
       "4           4  Western District (Downtown)  Kyimyindaing       73200   \n",
       "5           5  Western District (Downtown)      Lanmadaw       47160   \n",
       "6           6  Western District (Downtown)       Seikkan        1250   \n",
       "7           7  Western District (Downtown)         Latha       27500   \n",
       "8           8  Western District (Downtown)       Pabedan       40000   \n",
       "9           9  Western District (Downtown)     Sanchaung       65300   \n",
       "\n",
       "   Longitude   Latitude  \n",
       "0  96.127778  16.783056  \n",
       "1  96.152222  16.808056  \n",
       "2  96.149722  16.780833  \n",
       "3  96.158756  16.774422  \n",
       "4  96.124167  16.803056  \n",
       "5  96.149722  16.780833  \n",
       "6  96.150000  16.766667  \n",
       "7  96.149722  16.780833  \n",
       "8  96.155556  16.780278  \n",
       "9  96.135000  16.806389  "
      ]
     },
     "execution_count": 3,
     "metadata": {},
     "output_type": "execute_result"
    }
   ],
   "source": [
    "df.head(10)"
   ]
  },
  {
   "cell_type": "code",
   "execution_count": 4,
   "metadata": {},
   "outputs": [],
   "source": [
    "df.drop('Unnamed: 0',axis=1,inplace=True)"
   ]
  },
  {
   "cell_type": "markdown",
   "metadata": {},
   "source": [
    "Creating 'Population'dataframe from the main dataframe"
   ]
  },
  {
   "cell_type": "code",
   "execution_count": 5,
   "metadata": {},
   "outputs": [],
   "source": [
    "yangon_population = pd.DataFrame(df[['Borough','Neighborhoods','Population']])"
   ]
  },
  {
   "cell_type": "code",
   "execution_count": 6,
   "metadata": {},
   "outputs": [
    {
     "data": {
      "text/html": [
       "<div>\n",
       "<style scoped>\n",
       "    .dataframe tbody tr th:only-of-type {\n",
       "        vertical-align: middle;\n",
       "    }\n",
       "\n",
       "    .dataframe tbody tr th {\n",
       "        vertical-align: top;\n",
       "    }\n",
       "\n",
       "    .dataframe thead th {\n",
       "        text-align: right;\n",
       "    }\n",
       "</style>\n",
       "<table border=\"1\" class=\"dataframe\">\n",
       "  <thead>\n",
       "    <tr style=\"text-align: right;\">\n",
       "      <th></th>\n",
       "      <th>Borough</th>\n",
       "      <th>Neighborhoods</th>\n",
       "      <th>Population</th>\n",
       "    </tr>\n",
       "  </thead>\n",
       "  <tbody>\n",
       "    <tr>\n",
       "      <th>0</th>\n",
       "      <td>Western District (Downtown)</td>\n",
       "      <td>Ahlon</td>\n",
       "      <td>41200</td>\n",
       "    </tr>\n",
       "    <tr>\n",
       "      <th>1</th>\n",
       "      <td>Western District (Downtown)</td>\n",
       "      <td>Bahan</td>\n",
       "      <td>81000</td>\n",
       "    </tr>\n",
       "    <tr>\n",
       "      <th>2</th>\n",
       "      <td>Western District (Downtown)</td>\n",
       "      <td>Dagon</td>\n",
       "      <td>25082</td>\n",
       "    </tr>\n",
       "    <tr>\n",
       "      <th>3</th>\n",
       "      <td>Western District (Downtown)</td>\n",
       "      <td>Kyauktada</td>\n",
       "      <td>37000</td>\n",
       "    </tr>\n",
       "    <tr>\n",
       "      <th>4</th>\n",
       "      <td>Western District (Downtown)</td>\n",
       "      <td>Kyimyindaing</td>\n",
       "      <td>73200</td>\n",
       "    </tr>\n",
       "  </tbody>\n",
       "</table>\n",
       "</div>"
      ],
      "text/plain": [
       "                       Borough Neighborhoods  Population\n",
       "0  Western District (Downtown)         Ahlon       41200\n",
       "1  Western District (Downtown)         Bahan       81000\n",
       "2  Western District (Downtown)         Dagon       25082\n",
       "3  Western District (Downtown)     Kyauktada       37000\n",
       "4  Western District (Downtown)  Kyimyindaing       73200"
      ]
     },
     "execution_count": 6,
     "metadata": {},
     "output_type": "execute_result"
    }
   ],
   "source": [
    "yangon_population.head()"
   ]
  },
  {
   "cell_type": "code",
   "execution_count": 7,
   "metadata": {},
   "outputs": [],
   "source": [
    "yangon_population.to_csv('population_dataset.csv')"
   ]
  },
  {
   "cell_type": "code",
   "execution_count": 8,
   "metadata": {},
   "outputs": [
    {
     "name": "stdout",
     "output_type": "stream",
     "text": [
      "Latitude and Longitude of Yangon is :  16.813652484848486 96.15452463636362\n"
     ]
    }
   ],
   "source": [
    "yangon_latitude = df['Latitude'].mean()\n",
    "yangon_longitude = df['Longitude'].mean()\n",
    "print(\"Latitude and Longitude of Yangon is : \",yangon_latitude,yangon_longitude)"
   ]
  },
  {
   "cell_type": "code",
   "execution_count": 9,
   "metadata": {},
   "outputs": [],
   "source": [
    "CLIENT_ID = 'DRNSKMKJ4BAH5R4P5FKPBWNQ1KN33TH5GMR30G0HTJKX5KVI'\n",
    "CLIENT_SECRET = 'KJKHXUKCES5AAWNGE4VGH1NLGAYV4OWSLN02C2CJ4PIPQAO4'\n",
    "VERSION = '20180604'\n",
    "LIMIT = 150"
   ]
  },
  {
   "cell_type": "code",
   "execution_count": 10,
   "metadata": {},
   "outputs": [],
   "source": [
    "unique_boroughs_of_yangon = df['Borough'].unique().tolist()"
   ]
  },
  {
   "cell_type": "code",
   "execution_count": 11,
   "metadata": {},
   "outputs": [
    {
     "data": {
      "text/plain": [
       "['Western District (Downtown)',\n",
       " 'Eastern District',\n",
       " 'Southern District',\n",
       " 'Northern District']"
      ]
     },
     "execution_count": 11,
     "metadata": {},
     "output_type": "execute_result"
    }
   ],
   "source": [
    "unique_boroughs_of_yangon"
   ]
  },
  {
   "cell_type": "code",
   "execution_count": 12,
   "metadata": {},
   "outputs": [],
   "source": [
    "borough_colors ={}\n",
    "for i in unique_boroughs_of_yangon:\n",
    "    borough_colors[i] = '#%02X%02X%02X' % tuple(np.random.choice(range(256),size=3))"
   ]
  },
  {
   "cell_type": "code",
   "execution_count": 13,
   "metadata": {},
   "outputs": [],
   "source": [
    "yangon_map = folium.Map(location=[yangon_latitude,yangon_longitude],zoom_start=12,control_scale=True)"
   ]
  },
  {
   "cell_type": "code",
   "execution_count": 14,
   "metadata": {},
   "outputs": [],
   "source": [
    "for lat,lng,boro,nei in zip(df['Latitude'],\n",
    "                           df['Longitude'],\n",
    "                           df['Borough'],\n",
    "                           df['Neighborhoods']):\n",
    "    label_text = boro + ' - ' + nei\n",
    "    label = folium.Popup(label_text,parse_html=True)\n",
    "    folium.CircleMarker(\n",
    "    [lat,lng],\n",
    "    tooltip = label_text,\n",
    "    radius = 4,\n",
    "    popup = label,\n",
    "    color=borough_colors[boro],\n",
    "    fill=True,\n",
    "    fill_color = borough_colors[boro],\n",
    "    fill_opacity=0.7).add_to(yangon_map)"
   ]
  },
  {
   "cell_type": "code",
   "execution_count": 15,
   "metadata": {
    "scrolled": true
   },
   "outputs": [
    {
     "data": {
      "text/html": [
       "<div style=\"width:100%;\"><div style=\"position:relative;width:100%;height:0;padding-bottom:60%;\"><iframe src=\"data:text/html;charset=utf-8;base64,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\" style=\"position:absolute;width:100%;height:100%;left:0;top:0;border:none !important;\" allowfullscreen webkitallowfullscreen mozallowfullscreen></iframe></div></div>"
      ],
      "text/plain": [
       "<folium.folium.Map at 0x7fb06f287710>"
      ]
     },
     "execution_count": 15,
     "metadata": {},
     "output_type": "execute_result"
    }
   ],
   "source": [
    "yangon_map"
   ]
  },
  {
   "cell_type": "markdown",
   "metadata": {},
   "source": [
    "# Exploring Yangon Neighborhoods using FourSquare API"
   ]
  },
  {
   "cell_type": "code",
   "execution_count": 16,
   "metadata": {},
   "outputs": [],
   "source": [
    "def getNearbyVenues(names, boro, latitudes, longitudes, radius=500):\n",
    "    \n",
    "    venues_list=[]\n",
    "    for name, boro, lat, lng in zip(names, boro, latitudes, longitudes):\n",
    "        print(\"Fetching venues for : \",name)            \n",
    "        # create the API request URL\n",
    "        url = 'https://api.foursquare.com/v2/venues/explore?&client_id={}&client_secret={}&v={}&ll={},{}&radius={}&limit={}'.format(\n",
    "            CLIENT_ID, \n",
    "            CLIENT_SECRET, \n",
    "            VERSION, \n",
    "            lat, \n",
    "            lng, \n",
    "            radius, \n",
    "            LIMIT)\n",
    "            \n",
    "        # make the GET request\n",
    "        results = requests.get(url).json()[\"response\"]['groups'][0]['items']\n",
    "        \n",
    "        # return only relevant information for each nearby venue\n",
    "        venues_list.append([(\n",
    "            name, \n",
    "            boro,\n",
    "            lat, \n",
    "            lng, \n",
    "            v['venue']['name'], \n",
    "            v['venue']['location']['lat'], \n",
    "            v['venue']['location']['lng'],  \n",
    "            v['venue']['categories'][0]['name']) for v in results])\n",
    "\n",
    "    nearby_venues = pd.DataFrame([item for venue_list in venues_list for item in venue_list])\n",
    "    nearby_venues.columns = ['Neighborhood',\n",
    "                             'Borough',\n",
    "                             'Neighborhood Latitude', \n",
    "                             'Neighborhood Longitude', \n",
    "                             'Venue', \n",
    "                             'Venue Latitude', \n",
    "                             'Venue Longitude', \n",
    "                             'Venue Category']\n",
    "    \n",
    "    return(nearby_venues)"
   ]
  },
  {
   "cell_type": "code",
   "execution_count": 17,
   "metadata": {},
   "outputs": [
    {
     "name": "stdout",
     "output_type": "stream",
     "text": [
      "Fetching venues for :  Ahlon\n",
      "Fetching venues for :  Bahan\n",
      "Fetching venues for :  Dagon\n",
      "Fetching venues for :  Kyauktada\n",
      "Fetching venues for :  Kyimyindaing\n",
      "Fetching venues for :  Lanmadaw\n",
      "Fetching venues for :  Seikkan\n",
      "Fetching venues for :  Latha\n",
      "Fetching venues for :  Pabedan\n",
      "Fetching venues for :  Sanchaung\n",
      "Fetching venues for :  Dagon Seikkan\n",
      "Fetching venues for :  East Dagon\n",
      "Fetching venues for :  North Dagon\n",
      "Fetching venues for :  North Okkalapa\n",
      "Fetching venues for :  South Dagon\n",
      "Fetching venues for :  South Okkalapa\n",
      "Fetching venues for :  Thingangyun\n",
      "Fetching venues for :  Dala\n",
      "Fetching venues for :  Dawbon\n",
      "Fetching venues for :  Botataung\n",
      "Fetching venues for :  Mingala Taungnyunt\n",
      "Fetching venues for :  Seikkyi Kanaungto\n",
      "Fetching venues for :  Tamwe\n",
      "Fetching venues for :  Pazundaung\n",
      "Fetching venues for :  Thaketa\n",
      "Fetching venues for :  Yankin\n",
      "Fetching venues for :  Insein\n",
      "Fetching venues for :  Hlaing\n",
      "Fetching venues for :  Hlaingthaya\n",
      "Fetching venues for :  Kamayut\n",
      "Fetching venues for :  Mayangon\n",
      "Fetching venues for :  Mingaladon\n",
      "Fetching venues for :  Shwepyitha\n"
     ]
    }
   ],
   "source": [
    "yangon_venues = getNearbyVenues(names=df['Neighborhoods'],latitudes=df['Latitude'],longitudes=df['Longitude'],boro=df['Borough'])"
   ]
  },
  {
   "cell_type": "code",
   "execution_count": 18,
   "metadata": {},
   "outputs": [
    {
     "name": "stdout",
     "output_type": "stream",
     "text": [
      "Total number of venues found in Yangon are :  238\n"
     ]
    }
   ],
   "source": [
    "print(\"Total number of venues found in Yangon are : \",yangon_venues.shape[0])"
   ]
  },
  {
   "cell_type": "code",
   "execution_count": 19,
   "metadata": {},
   "outputs": [
    {
     "data": {
      "text/html": [
       "<div>\n",
       "<style scoped>\n",
       "    .dataframe tbody tr th:only-of-type {\n",
       "        vertical-align: middle;\n",
       "    }\n",
       "\n",
       "    .dataframe tbody tr th {\n",
       "        vertical-align: top;\n",
       "    }\n",
       "\n",
       "    .dataframe thead th {\n",
       "        text-align: right;\n",
       "    }\n",
       "</style>\n",
       "<table border=\"1\" class=\"dataframe\">\n",
       "  <thead>\n",
       "    <tr style=\"text-align: right;\">\n",
       "      <th></th>\n",
       "      <th>Neighborhood</th>\n",
       "      <th>Borough</th>\n",
       "      <th>Neighborhood Latitude</th>\n",
       "      <th>Neighborhood Longitude</th>\n",
       "      <th>Venue</th>\n",
       "      <th>Venue Latitude</th>\n",
       "      <th>Venue Longitude</th>\n",
       "      <th>Venue Category</th>\n",
       "    </tr>\n",
       "  </thead>\n",
       "  <tbody>\n",
       "    <tr>\n",
       "      <th>0</th>\n",
       "      <td>Ahlon</td>\n",
       "      <td>Western District (Downtown)</td>\n",
       "      <td>16.783056</td>\n",
       "      <td>96.127778</td>\n",
       "      <td>Urban 86 Food Court</td>\n",
       "      <td>16.782257</td>\n",
       "      <td>96.126869</td>\n",
       "      <td>Food Stand</td>\n",
       "    </tr>\n",
       "    <tr>\n",
       "      <th>1</th>\n",
       "      <td>Ahlon</td>\n",
       "      <td>Western District (Downtown)</td>\n",
       "      <td>16.783056</td>\n",
       "      <td>96.127778</td>\n",
       "      <td>Sein Gay Har @ Pyay Road</td>\n",
       "      <td>16.781087</td>\n",
       "      <td>96.127681</td>\n",
       "      <td>Shopping Mall</td>\n",
       "    </tr>\n",
       "    <tr>\n",
       "      <th>2</th>\n",
       "      <td>Ahlon</td>\n",
       "      <td>Western District (Downtown)</td>\n",
       "      <td>16.783056</td>\n",
       "      <td>96.127778</td>\n",
       "      <td>Meringue Café</td>\n",
       "      <td>16.786160</td>\n",
       "      <td>96.128021</td>\n",
       "      <td>Café</td>\n",
       "    </tr>\n",
       "    <tr>\n",
       "      <th>3</th>\n",
       "      <td>Ahlon</td>\n",
       "      <td>Western District (Downtown)</td>\n",
       "      <td>16.783056</td>\n",
       "      <td>96.127778</td>\n",
       "      <td>Apple Hotpot &amp; Dim Sum</td>\n",
       "      <td>16.786116</td>\n",
       "      <td>96.130737</td>\n",
       "      <td>Dim Sum Restaurant</td>\n",
       "    </tr>\n",
       "    <tr>\n",
       "      <th>4</th>\n",
       "      <td>Ahlon</td>\n",
       "      <td>Western District (Downtown)</td>\n",
       "      <td>16.783056</td>\n",
       "      <td>96.127778</td>\n",
       "      <td>Western Park Ruby</td>\n",
       "      <td>16.786108</td>\n",
       "      <td>96.130772</td>\n",
       "      <td>Dumpling Restaurant</td>\n",
       "    </tr>\n",
       "  </tbody>\n",
       "</table>\n",
       "</div>"
      ],
      "text/plain": [
       "  Neighborhood                      Borough  Neighborhood Latitude  \\\n",
       "0        Ahlon  Western District (Downtown)              16.783056   \n",
       "1        Ahlon  Western District (Downtown)              16.783056   \n",
       "2        Ahlon  Western District (Downtown)              16.783056   \n",
       "3        Ahlon  Western District (Downtown)              16.783056   \n",
       "4        Ahlon  Western District (Downtown)              16.783056   \n",
       "\n",
       "   Neighborhood Longitude                     Venue  Venue Latitude  \\\n",
       "0               96.127778       Urban 86 Food Court       16.782257   \n",
       "1               96.127778  Sein Gay Har @ Pyay Road       16.781087   \n",
       "2               96.127778             Meringue Café       16.786160   \n",
       "3               96.127778    Apple Hotpot & Dim Sum       16.786116   \n",
       "4               96.127778         Western Park Ruby       16.786108   \n",
       "\n",
       "   Venue Longitude       Venue Category  \n",
       "0        96.126869           Food Stand  \n",
       "1        96.127681        Shopping Mall  \n",
       "2        96.128021                 Café  \n",
       "3        96.130737   Dim Sum Restaurant  \n",
       "4        96.130772  Dumpling Restaurant  "
      ]
     },
     "execution_count": 19,
     "metadata": {},
     "output_type": "execute_result"
    }
   ],
   "source": [
    "yangon_venues.head(5)"
   ]
  },
  {
   "cell_type": "code",
   "execution_count": 20,
   "metadata": {},
   "outputs": [
    {
     "data": {
      "text/plain": [
       "Venue Category\n",
       "Café                   19\n",
       "Hotel                  17\n",
       "Noodle House           11\n",
       "Restaurant             10\n",
       "Shopping Mall          10\n",
       "Japanese Restaurant     9\n",
       "Bakery                  8\n",
       "Burmese Restaurant      7\n",
       "Hostel                  7\n",
       "Supermarket             7\n",
       "Name: Neighborhood, dtype: int64"
      ]
     },
     "execution_count": 20,
     "metadata": {},
     "output_type": "execute_result"
    }
   ],
   "source": [
    "yangon_venues.groupby('Venue Category').count()['Neighborhood'].sort_values(ascending=False).head(10)"
   ]
  },
  {
   "cell_type": "code",
   "execution_count": 21,
   "metadata": {},
   "outputs": [
    {
     "name": "stdout",
     "output_type": "stream",
     "text": [
      "Total number of unique categories in yangon are :  73\n"
     ]
    }
   ],
   "source": [
    "print(\"Total number of unique categories in yangon are : \",len(yangon_venues['Venue Category'].unique()))"
   ]
  },
  {
   "cell_type": "markdown",
   "metadata": {},
   "source": [
    "### Getting number of venues per neighborhood"
   ]
  },
  {
   "cell_type": "code",
   "execution_count": 22,
   "metadata": {},
   "outputs": [],
   "source": [
    "individual_yangon_venue_count = yangon_venues.groupby(['Borough','Neighborhood'])['Borough'].count().to_frame()"
   ]
  },
  {
   "cell_type": "code",
   "execution_count": 23,
   "metadata": {},
   "outputs": [
    {
     "data": {
      "text/html": [
       "<div>\n",
       "<style scoped>\n",
       "    .dataframe tbody tr th:only-of-type {\n",
       "        vertical-align: middle;\n",
       "    }\n",
       "\n",
       "    .dataframe tbody tr th {\n",
       "        vertical-align: top;\n",
       "    }\n",
       "\n",
       "    .dataframe thead th {\n",
       "        text-align: right;\n",
       "    }\n",
       "</style>\n",
       "<table border=\"1\" class=\"dataframe\">\n",
       "  <thead>\n",
       "    <tr style=\"text-align: right;\">\n",
       "      <th></th>\n",
       "      <th></th>\n",
       "      <th>Borough</th>\n",
       "    </tr>\n",
       "    <tr>\n",
       "      <th>Borough</th>\n",
       "      <th>Neighborhood</th>\n",
       "      <th></th>\n",
       "    </tr>\n",
       "  </thead>\n",
       "  <tbody>\n",
       "    <tr>\n",
       "      <th rowspan=\"2\" valign=\"top\">Eastern District</th>\n",
       "      <th>South Okkalapa</th>\n",
       "      <td>4</td>\n",
       "    </tr>\n",
       "    <tr>\n",
       "      <th>Thingangyun</th>\n",
       "      <td>5</td>\n",
       "    </tr>\n",
       "    <tr>\n",
       "      <th rowspan=\"4\" valign=\"top\">Northern District</th>\n",
       "      <th>Hlaing</th>\n",
       "      <td>4</td>\n",
       "    </tr>\n",
       "    <tr>\n",
       "      <th>Kamayut</th>\n",
       "      <td>31</td>\n",
       "    </tr>\n",
       "    <tr>\n",
       "      <th>Mingaladon</th>\n",
       "      <td>5</td>\n",
       "    </tr>\n",
       "    <tr>\n",
       "      <th>Shwepyitha</th>\n",
       "      <td>1</td>\n",
       "    </tr>\n",
       "    <tr>\n",
       "      <th rowspan=\"6\" valign=\"top\">Southern District</th>\n",
       "      <th>Botataung</th>\n",
       "      <td>1</td>\n",
       "    </tr>\n",
       "    <tr>\n",
       "      <th>Mingala Taungnyunt</th>\n",
       "      <td>5</td>\n",
       "    </tr>\n",
       "    <tr>\n",
       "      <th>Pazundaung</th>\n",
       "      <td>5</td>\n",
       "    </tr>\n",
       "    <tr>\n",
       "      <th>Tamwe</th>\n",
       "      <td>20</td>\n",
       "    </tr>\n",
       "    <tr>\n",
       "      <th>Thaketa</th>\n",
       "      <td>1</td>\n",
       "    </tr>\n",
       "    <tr>\n",
       "      <th>Yankin</th>\n",
       "      <td>8</td>\n",
       "    </tr>\n",
       "    <tr>\n",
       "      <th rowspan=\"8\" valign=\"top\">Western District (Downtown)</th>\n",
       "      <th>Ahlon</th>\n",
       "      <td>6</td>\n",
       "    </tr>\n",
       "    <tr>\n",
       "      <th>Bahan</th>\n",
       "      <td>25</td>\n",
       "    </tr>\n",
       "    <tr>\n",
       "      <th>Dagon</th>\n",
       "      <td>9</td>\n",
       "    </tr>\n",
       "    <tr>\n",
       "      <th>Kyauktada</th>\n",
       "      <td>40</td>\n",
       "    </tr>\n",
       "    <tr>\n",
       "      <th>Lanmadaw</th>\n",
       "      <td>9</td>\n",
       "    </tr>\n",
       "    <tr>\n",
       "      <th>Latha</th>\n",
       "      <td>9</td>\n",
       "    </tr>\n",
       "    <tr>\n",
       "      <th>Pabedan</th>\n",
       "      <td>38</td>\n",
       "    </tr>\n",
       "    <tr>\n",
       "      <th>Sanchaung</th>\n",
       "      <td>12</td>\n",
       "    </tr>\n",
       "  </tbody>\n",
       "</table>\n",
       "</div>"
      ],
      "text/plain": [
       "                                                Borough\n",
       "Borough                     Neighborhood               \n",
       "Eastern District            South Okkalapa            4\n",
       "                            Thingangyun               5\n",
       "Northern District           Hlaing                    4\n",
       "                            Kamayut                  31\n",
       "                            Mingaladon                5\n",
       "                            Shwepyitha                1\n",
       "Southern District           Botataung                 1\n",
       "                            Mingala Taungnyunt        5\n",
       "                            Pazundaung                5\n",
       "                            Tamwe                    20\n",
       "                            Thaketa                   1\n",
       "                            Yankin                    8\n",
       "Western District (Downtown) Ahlon                     6\n",
       "                            Bahan                    25\n",
       "                            Dagon                     9\n",
       "                            Kyauktada                40\n",
       "                            Lanmadaw                  9\n",
       "                            Latha                     9\n",
       "                            Pabedan                  38\n",
       "                            Sanchaung                12"
      ]
     },
     "execution_count": 23,
     "metadata": {},
     "output_type": "execute_result"
    }
   ],
   "source": [
    "individual_yangon_venue_count"
   ]
  },
  {
   "cell_type": "code",
   "execution_count": 24,
   "metadata": {},
   "outputs": [],
   "source": [
    "individual_yangon_venue_count.rename(columns={'Borough':'NumberOfVenues'},inplace=True)"
   ]
  },
  {
   "cell_type": "code",
   "execution_count": 25,
   "metadata": {},
   "outputs": [],
   "source": [
    "individual_yangon_venue_count.reset_index(inplace=True)"
   ]
  },
  {
   "cell_type": "code",
   "execution_count": 26,
   "metadata": {},
   "outputs": [
    {
     "data": {
      "text/html": [
       "<div>\n",
       "<style scoped>\n",
       "    .dataframe tbody tr th:only-of-type {\n",
       "        vertical-align: middle;\n",
       "    }\n",
       "\n",
       "    .dataframe tbody tr th {\n",
       "        vertical-align: top;\n",
       "    }\n",
       "\n",
       "    .dataframe thead th {\n",
       "        text-align: right;\n",
       "    }\n",
       "</style>\n",
       "<table border=\"1\" class=\"dataframe\">\n",
       "  <thead>\n",
       "    <tr style=\"text-align: right;\">\n",
       "      <th></th>\n",
       "      <th>Borough</th>\n",
       "      <th>Neighborhood</th>\n",
       "      <th>NumberOfVenues</th>\n",
       "    </tr>\n",
       "  </thead>\n",
       "  <tbody>\n",
       "    <tr>\n",
       "      <th>0</th>\n",
       "      <td>Eastern District</td>\n",
       "      <td>South Okkalapa</td>\n",
       "      <td>4</td>\n",
       "    </tr>\n",
       "    <tr>\n",
       "      <th>1</th>\n",
       "      <td>Eastern District</td>\n",
       "      <td>Thingangyun</td>\n",
       "      <td>5</td>\n",
       "    </tr>\n",
       "    <tr>\n",
       "      <th>2</th>\n",
       "      <td>Northern District</td>\n",
       "      <td>Hlaing</td>\n",
       "      <td>4</td>\n",
       "    </tr>\n",
       "    <tr>\n",
       "      <th>3</th>\n",
       "      <td>Northern District</td>\n",
       "      <td>Kamayut</td>\n",
       "      <td>31</td>\n",
       "    </tr>\n",
       "    <tr>\n",
       "      <th>4</th>\n",
       "      <td>Northern District</td>\n",
       "      <td>Mingaladon</td>\n",
       "      <td>5</td>\n",
       "    </tr>\n",
       "    <tr>\n",
       "      <th>5</th>\n",
       "      <td>Northern District</td>\n",
       "      <td>Shwepyitha</td>\n",
       "      <td>1</td>\n",
       "    </tr>\n",
       "    <tr>\n",
       "      <th>6</th>\n",
       "      <td>Southern District</td>\n",
       "      <td>Botataung</td>\n",
       "      <td>1</td>\n",
       "    </tr>\n",
       "    <tr>\n",
       "      <th>7</th>\n",
       "      <td>Southern District</td>\n",
       "      <td>Mingala Taungnyunt</td>\n",
       "      <td>5</td>\n",
       "    </tr>\n",
       "    <tr>\n",
       "      <th>8</th>\n",
       "      <td>Southern District</td>\n",
       "      <td>Pazundaung</td>\n",
       "      <td>5</td>\n",
       "    </tr>\n",
       "    <tr>\n",
       "      <th>9</th>\n",
       "      <td>Southern District</td>\n",
       "      <td>Tamwe</td>\n",
       "      <td>20</td>\n",
       "    </tr>\n",
       "    <tr>\n",
       "      <th>10</th>\n",
       "      <td>Southern District</td>\n",
       "      <td>Thaketa</td>\n",
       "      <td>1</td>\n",
       "    </tr>\n",
       "    <tr>\n",
       "      <th>11</th>\n",
       "      <td>Southern District</td>\n",
       "      <td>Yankin</td>\n",
       "      <td>8</td>\n",
       "    </tr>\n",
       "    <tr>\n",
       "      <th>12</th>\n",
       "      <td>Western District (Downtown)</td>\n",
       "      <td>Ahlon</td>\n",
       "      <td>6</td>\n",
       "    </tr>\n",
       "    <tr>\n",
       "      <th>13</th>\n",
       "      <td>Western District (Downtown)</td>\n",
       "      <td>Bahan</td>\n",
       "      <td>25</td>\n",
       "    </tr>\n",
       "    <tr>\n",
       "      <th>14</th>\n",
       "      <td>Western District (Downtown)</td>\n",
       "      <td>Dagon</td>\n",
       "      <td>9</td>\n",
       "    </tr>\n",
       "    <tr>\n",
       "      <th>15</th>\n",
       "      <td>Western District (Downtown)</td>\n",
       "      <td>Kyauktada</td>\n",
       "      <td>40</td>\n",
       "    </tr>\n",
       "    <tr>\n",
       "      <th>16</th>\n",
       "      <td>Western District (Downtown)</td>\n",
       "      <td>Lanmadaw</td>\n",
       "      <td>9</td>\n",
       "    </tr>\n",
       "    <tr>\n",
       "      <th>17</th>\n",
       "      <td>Western District (Downtown)</td>\n",
       "      <td>Latha</td>\n",
       "      <td>9</td>\n",
       "    </tr>\n",
       "    <tr>\n",
       "      <th>18</th>\n",
       "      <td>Western District (Downtown)</td>\n",
       "      <td>Pabedan</td>\n",
       "      <td>38</td>\n",
       "    </tr>\n",
       "    <tr>\n",
       "      <th>19</th>\n",
       "      <td>Western District (Downtown)</td>\n",
       "      <td>Sanchaung</td>\n",
       "      <td>12</td>\n",
       "    </tr>\n",
       "  </tbody>\n",
       "</table>\n",
       "</div>"
      ],
      "text/plain": [
       "                        Borough        Neighborhood  NumberOfVenues\n",
       "0              Eastern District      South Okkalapa               4\n",
       "1              Eastern District         Thingangyun               5\n",
       "2             Northern District              Hlaing               4\n",
       "3             Northern District             Kamayut              31\n",
       "4             Northern District          Mingaladon               5\n",
       "5             Northern District          Shwepyitha               1\n",
       "6             Southern District           Botataung               1\n",
       "7             Southern District  Mingala Taungnyunt               5\n",
       "8             Southern District          Pazundaung               5\n",
       "9             Southern District               Tamwe              20\n",
       "10            Southern District             Thaketa               1\n",
       "11            Southern District              Yankin               8\n",
       "12  Western District (Downtown)               Ahlon               6\n",
       "13  Western District (Downtown)               Bahan              25\n",
       "14  Western District (Downtown)               Dagon               9\n",
       "15  Western District (Downtown)           Kyauktada              40\n",
       "16  Western District (Downtown)            Lanmadaw               9\n",
       "17  Western District (Downtown)               Latha               9\n",
       "18  Western District (Downtown)             Pabedan              38\n",
       "19  Western District (Downtown)           Sanchaung              12"
      ]
     },
     "execution_count": 26,
     "metadata": {},
     "output_type": "execute_result"
    }
   ],
   "source": [
    "individual_yangon_venue_count"
   ]
  },
  {
   "cell_type": "code",
   "execution_count": null,
   "metadata": {},
   "outputs": [
    {
     "data": {
      "text/plain": [
       "[Text(0, 0, 'South Okkalapa'),\n",
       " Text(0, 0, 'Thingangyun'),\n",
       " Text(0, 0, 'Hlaing'),\n",
       " Text(0, 0, 'Kamayut'),\n",
       " Text(0, 0, 'Mingaladon'),\n",
       " Text(0, 0, 'Shwepyitha'),\n",
       " Text(0, 0, 'Botataung'),\n",
       " Text(0, 0, 'Mingala Taungnyunt'),\n",
       " Text(0, 0, 'Pazundaung'),\n",
       " Text(0, 0, 'Tamwe'),\n",
       " Text(0, 0, 'Thaketa'),\n",
       " Text(0, 0, 'Yankin'),\n",
       " Text(0, 0, 'Ahlon'),\n",
       " Text(0, 0, 'Bahan'),\n",
       " Text(0, 0, 'Dagon'),\n",
       " Text(0, 0, 'Kyauktada'),\n",
       " Text(0, 0, 'Lanmadaw'),\n",
       " Text(0, 0, 'Latha'),\n",
       " Text(0, 0, 'Pabedan'),\n",
       " Text(0, 0, 'Sanchaung')]"
      ]
     },
     "execution_count": 27,
     "metadata": {},
     "output_type": "execute_result"
    }
   ],
   "source": [
    "sns.set(rc={'figure.figsize':(11,16)})\n",
    "plot = sns.barplot(x='Neighborhood',y='NumberOfVenues',data=individual_yangon_venue_count)\n",
    "plot.set_xticklabels(individual_yangon_venue_count['Neighborhood'],rotation=90)"
   ]
  },
  {
   "cell_type": "markdown",
   "metadata": {},
   "source": [
    "From the above graph we can see that inderanagar has most number of venues and soo on..."
   ]
  },
  {
   "cell_type": "markdown",
   "metadata": {},
   "source": [
    "## Exploring Kyauktada venues"
   ]
  },
  {
   "cell_type": "code",
   "execution_count": null,
   "metadata": {},
   "outputs": [],
   "source": [
    "yangon_venues[yangon_venues['Neighborhood']=='Kyauktada']"
   ]
  },
  {
   "cell_type": "markdown",
   "metadata": {},
   "source": [
    "# One hot encoding for letting us to compare different venues based on some common scale"
   ]
  },
  {
   "cell_type": "code",
   "execution_count": null,
   "metadata": {},
   "outputs": [],
   "source": [
    "yangon_venues_onehot = pd.get_dummies(yangon_venues[['Venue Category']])"
   ]
  },
  {
   "cell_type": "code",
   "execution_count": null,
   "metadata": {},
   "outputs": [],
   "source": [
    "yangon_venues_onehot"
   ]
  },
  {
   "cell_type": "code",
   "execution_count": null,
   "metadata": {},
   "outputs": [],
   "source": [
    "yangon_venues_onehot['Neighborhood'] = yangon_venues['Neighborhood']\n",
    "yangon_venues_grouped = yangon_venues_onehot.groupby('Neighborhood').mean().reset_index()\n",
    "yangon_venues_grouped"
   ]
  },
  {
   "cell_type": "code",
   "execution_count": null,
   "metadata": {},
   "outputs": [],
   "source": [
    "number_of_top_venues = 5"
   ]
  },
  {
   "cell_type": "code",
   "execution_count": null,
   "metadata": {},
   "outputs": [],
   "source": [
    "for hood in yangon_venues_grouped['Neighborhood']:\n",
    "    print('*********',hood,'**********')\n",
    "    temp = yangon_venues_grouped[yangon_venues_grouped['Neighborhood'] == hood].T.reset_index()\n",
    "    temp.columns = ['Venue','Frequency']\n",
    "    temp = temp.iloc[1:]\n",
    "    temp['Frequency'] = temp['Frequency'].astype(float)\n",
    "    temp = temp.round({'Frequency': 2})\n",
    "    print(temp.sort_values('Frequency', ascending=False).reset_index(drop=True).head(number_of_top_venues))\n",
    "    print('\\n')"
   ]
  },
  {
   "cell_type": "markdown",
   "metadata": {},
   "source": [
    "Frequency of each neighborhood and its top 5 venues can be known. This is very important is we can analyze top neighborhoods with most busy restaurants"
   ]
  },
  {
   "cell_type": "code",
   "execution_count": null,
   "metadata": {},
   "outputs": [],
   "source": [
    "def return_most_common_venues(row, number_of_top_venues):\n",
    "    row_categories = row.iloc[1:]\n",
    "    row_categories_sorted = row_categories.sort_values(ascending=False)\n",
    "    return row_categories_sorted.index.values[0:number_of_top_venues]"
   ]
  },
  {
   "cell_type": "code",
   "execution_count": null,
   "metadata": {},
   "outputs": [],
   "source": [
    "number_of_top_venues = 10\n",
    "\n",
    "indicators = ['st', 'nd', 'rd']\n",
    "\n",
    "# create columns according to number of top venues\n",
    "columns = ['Neighborhood']\n",
    "for ind in np.arange(number_of_top_venues):\n",
    "    try:\n",
    "        columns.append('{}{} Most Common Venue'.format(ind+1, indicators[ind]))\n",
    "    except:\n",
    "        columns.append('{}th Most Common Venue'.format(ind+1))\n",
    "\n",
    "# create a new dataframe\n",
    "neighborhoods_venues_sorted = pd.DataFrame(columns=columns)\n",
    "neighborhoods_venues_sorted['Neighborhood'] = yangon_venues_grouped['Neighborhood']\n",
    "\n",
    "for ind in np.arange(yangon_venues_grouped.shape[0]):\n",
    "    neighborhoods_venues_sorted.iloc[ind, 1:] = return_most_common_venues(yangon_venues_grouped.iloc[ind, :], number_of_top_venues)\n",
    "\n",
    "neighborhoods_venues_sorted.head()"
   ]
  },
  {
   "cell_type": "code",
   "execution_count": null,
   "metadata": {},
   "outputs": [],
   "source": [
    "neighborhoods_venues_sorted.shape"
   ]
  },
  {
   "cell_type": "markdown",
   "metadata": {},
   "source": [
    "## Next challenge is to find the optimal k value for clustering and we do it using the elbow method"
   ]
  },
  {
   "cell_type": "code",
   "execution_count": null,
   "metadata": {},
   "outputs": [],
   "source": [
    "sse = {}\n",
    "for k in range(1,15):\n",
    "    kmeans = KMeans(n_clusters=k,random_state=0)\n",
    "    kmeans.fit(yangon_venues_grouped.drop('Neighborhood',axis=1))\n",
    "    yangon_venues_grouped['Cluster'] = kmeans.labels_\n",
    "    sse[k] = kmeans.inertia_\n",
    "\n",
    "plt.figure()\n",
    "plt.plot(list(sse.keys()), list(sse.values()))\n",
    "plt.xlabel(\"Number of cluster\")\n",
    "plt.ylabel(\"SSE\")\n",
    "plt.show()"
   ]
  },
  {
   "cell_type": "markdown",
   "metadata": {},
   "source": [
    "### From the above graph, we can see the optimal value for cluster is 5."
   ]
  },
  {
   "cell_type": "code",
   "execution_count": null,
   "metadata": {},
   "outputs": [],
   "source": [
    "kmeans = KMeans(n_clusters=5,random_state=0)"
   ]
  },
  {
   "cell_type": "code",
   "execution_count": null,
   "metadata": {},
   "outputs": [],
   "source": [
    "kmeans.fit(yangon_venues_grouped.drop('Neighborhood',axis=1))"
   ]
  },
  {
   "cell_type": "code",
   "execution_count": null,
   "metadata": {},
   "outputs": [],
   "source": [
    "yangon_venues_grouped['Cluster'] = kmeans.labels_"
   ]
  },
  {
   "cell_type": "code",
   "execution_count": null,
   "metadata": {},
   "outputs": [],
   "source": [
    "yangon_venues_grouped.groupby('Cluster')['Neighborhood'].count()"
   ]
  },
  {
   "cell_type": "code",
   "execution_count": null,
   "metadata": {},
   "outputs": [],
   "source": [
    "yangon_venues_grouped.columns"
   ]
  },
  {
   "cell_type": "code",
   "execution_count": null,
   "metadata": {},
   "outputs": [],
   "source": [
    "neighborhoods_venues_sorted = neighborhoods_venues_sorted.merge(yangon_venues_grouped,on='Neighborhood')"
   ]
  },
  {
   "cell_type": "code",
   "execution_count": null,
   "metadata": {},
   "outputs": [],
   "source": [
    "neighborhoods_venues_sorted.head(4)"
   ]
  },
  {
   "cell_type": "code",
   "execution_count": null,
   "metadata": {},
   "outputs": [],
   "source": [
    "neighborhoods_venues_sorted.columns\n",
    "neighborhoods_venues_sorted = neighborhoods_venues_sorted.merge(yangon_venues,on='Neighborhood')"
   ]
  },
  {
   "cell_type": "code",
   "execution_count": null,
   "metadata": {},
   "outputs": [],
   "source": [
    "# create map\n",
    "map_clusters = folium.Map(location=[yangon_latitude, yangon_longitude], zoom_start=11)"
   ]
  },
  {
   "cell_type": "code",
   "execution_count": null,
   "metadata": {},
   "outputs": [],
   "source": [
    "# set color scheme for the clusters\n",
    "x = np.arange(6)\n",
    "ys = [i + x + (i*x)**2 for i in range(6)]\n",
    "colors_array = cm.rainbow(np.linspace(0, 1, len(ys)))\n",
    "rainbow = [colors.rgb2hex(i) for i in colors_array]\n",
    "\n",
    "# add markers to the map\n",
    "markers_colors = []\n",
    "for lat, lon, poi, cluster in zip(neighborhoods_venues_sorted['Neighborhood Latitude'], neighborhoods_venues_sorted['Neighborhood Longitude'], neighborhoods_venues_sorted['Neighborhood'], neighborhoods_venues_sorted['Cluster']):\n",
    "    label = folium.Popup(str(poi) + ' Cluster ' + str(cluster), parse_html=True)\n",
    "    folium.CircleMarker(\n",
    "        [lat, lon],\n",
    "        radius=5,\n",
    "        popup=label,\n",
    "        color=rainbow[cluster-1],\n",
    "        fill=True,\n",
    "        fill_color=rainbow[cluster-1],\n",
    "        fill_opacity=0.7).add_to(map_clusters)\n",
    "       "
   ]
  },
  {
   "cell_type": "code",
   "execution_count": null,
   "metadata": {},
   "outputs": [],
   "source": [
    "map_clusters"
   ]
  },
  {
   "cell_type": "markdown",
   "metadata": {},
   "source": [
    "## Finding similar locations based on user input (recommending location)"
   ]
  },
  {
   "cell_type": "code",
   "execution_count": null,
   "metadata": {},
   "outputs": [],
   "source": [
    "yangon_population.head()"
   ]
  },
  {
   "cell_type": "code",
   "execution_count": null,
   "metadata": {},
   "outputs": [],
   "source": [
    "yangon_population['Normalized_population'] = yangon_population['Population']/yangon_population['Population'].max(axis=0)\n",
    "yangon_population.head()"
   ]
  },
  {
   "cell_type": "code",
   "execution_count": null,
   "metadata": {},
   "outputs": [],
   "source": [
    "yangon_venues_grouped.head()"
   ]
  },
  {
   "cell_type": "markdown",
   "metadata": {},
   "source": [
    "#### recommending Veg restaurants"
   ]
  },
  {
   "cell_type": "code",
   "execution_count": null,
   "metadata": {},
   "outputs": [],
   "source": [
    "yangon_veg = yangon_venues_onehot.groupby(['Neighborhood']).sum().reset_index()\n",
    "yangon_veg.head()"
   ]
  },
  {
   "cell_type": "code",
   "execution_count": null,
   "metadata": {},
   "outputs": [],
   "source": [
    "yangon_veg.rename(columns={'Neighborhood':'Neighborhoods'},inplace=True)"
   ]
  },
  {
   "cell_type": "markdown",
   "metadata": {},
   "source": [
    "### Building a target neighborhood by providing a sample restaurant : say 'Kyauktada'"
   ]
  },
  {
   "cell_type": "code",
   "execution_count": null,
   "metadata": {},
   "outputs": [],
   "source": [
    "target_cluster_dataframe = neighborhoods_venues_sorted.loc[neighborhoods_venues_sorted['Neighborhood']=='Kyauktada']"
   ]
  },
  {
   "cell_type": "code",
   "execution_count": null,
   "metadata": {},
   "outputs": [],
   "source": [
    "target_cluster_dataframe.reset_index()"
   ]
  },
  {
   "cell_type": "code",
   "execution_count": null,
   "metadata": {},
   "outputs": [],
   "source": [
    "target_cluster = target_cluster_dataframe.iloc[0].at['Cluster']"
   ]
  },
  {
   "cell_type": "code",
   "execution_count": null,
   "metadata": {},
   "outputs": [],
   "source": [
    "target_cluster"
   ]
  },
  {
   "cell_type": "code",
   "execution_count": null,
   "metadata": {},
   "outputs": [],
   "source": [
    "print(\"The target cluster is : \",target_cluster)"
   ]
  },
  {
   "cell_type": "code",
   "execution_count": null,
   "metadata": {},
   "outputs": [],
   "source": [
    "possible_neighborhoods = neighborhoods_venues_sorted[neighborhoods_venues_sorted['Cluster']==target_cluster]\n",
    "possible_neighborhoods.head()"
   ]
  },
  {
   "cell_type": "code",
   "execution_count": null,
   "metadata": {},
   "outputs": [],
   "source": [
    "print(\"There are {} neighborhoods which has similar characteristics to Kyauktada.\".format(possible_neighborhoods.shape[0]))"
   ]
  },
  {
   "cell_type": "markdown",
   "metadata": {},
   "source": [
    "Selected the crowded population in Kyauktada which is the center of Yangon that has similar characteristics 195 neighborhoods."
   ]
  },
  {
   "cell_type": "markdown",
   "metadata": {},
   "source": [
    "# Thanks for your review!!!!"
   ]
  },
  {
   "cell_type": "code",
   "execution_count": null,
   "metadata": {},
   "outputs": [],
   "source": []
  }
 ],
 "metadata": {
  "kernelspec": {
   "display_name": "Python 3",
   "language": "python",
   "name": "python3"
  },
  "language_info": {
   "codemirror_mode": {
    "name": "ipython",
    "version": 3
   },
   "file_extension": ".py",
   "mimetype": "text/x-python",
   "name": "python",
   "nbconvert_exporter": "python",
   "pygments_lexer": "ipython3",
   "version": "3.7.3"
  }
 },
 "nbformat": 4,
 "nbformat_minor": 2
}
